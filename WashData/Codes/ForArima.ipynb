{
 "cells": [
  {
   "cell_type": "code",
   "execution_count": 8,
   "metadata": {},
   "outputs": [],
   "source": [
    "import pandas as pd\n",
    "\n"
   ]
  },
  {
   "cell_type": "code",
   "execution_count": 12,
   "metadata": {},
   "outputs": [],
   "source": [
    "df = pd.read_csv('summerOly_medal_counts.csv')\n"
   ]
  },
  {
   "cell_type": "code",
   "execution_count": 10,
   "metadata": {},
   "outputs": [],
   "source": [
    "df1 = df[df['NOC'].isin(['United States','Japan','China'])]"
   ]
  },
  {
   "cell_type": "code",
   "execution_count": 19,
   "metadata": {},
   "outputs": [],
   "source": [
    "df_result = df1.groupby(['NOC', 'Year', 'Gold', 'Silver', 'Bronze', 'Total']).size().reset_index(name='Count')\n",
    "df_result_China = df_result[df_result['NOC'].isin(['China'])]\n",
    "df_result_Japan = df_result[df_result['NOC'].isin(['Japan'])]\n",
    "df_result_US = df_result[df_result['NOC'].isin(['United States'])]"
   ]
  },
  {
   "cell_type": "code",
   "execution_count": 25,
   "metadata": {},
   "outputs": [],
   "source": [
    "for country in ['China', 'Japan', 'United States']:\n",
    "    df_country = df_result[df_result['NOC']==country]\n",
    "    df_country = df_country.set_index('Year')[['Gold', 'Silver', 'Bronze', 'Total']]\n",
    "    df_country.to_excel('ForArima'+country+'.xlsx')\n"
   ]
  },
  {
   "cell_type": "code",
   "execution_count": null,
   "metadata": {},
   "outputs": [],
   "source": [
    "df_China_transposed = df_result_China.set_index('Year')[['Gold', 'Silver', 'Bronze', 'Total']].transpose()\n",
    "df_China_transposed_Total = df_result_China.set_index('Year')[['Total']]\n",
    "df_China_transposed_Total.to_excel('For_Arima_China_Total.xlsx',index=True)"
   ]
  }
 ],
 "metadata": {
  "kernelspec": {
   "display_name": "MCM",
   "language": "python",
   "name": "python3"
  },
  "language_info": {
   "codemirror_mode": {
    "name": "ipython",
    "version": 3
   },
   "file_extension": ".py",
   "mimetype": "text/x-python",
   "name": "python",
   "nbconvert_exporter": "python",
   "pygments_lexer": "ipython3",
   "version": "3.8.19"
  }
 },
 "nbformat": 4,
 "nbformat_minor": 2
}
