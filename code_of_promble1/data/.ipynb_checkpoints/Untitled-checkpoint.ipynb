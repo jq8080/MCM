{
 "cells": [
  {
   "cell_type": "code",
   "execution_count": 8,
   "id": "0415c21b",
   "metadata": {},
   "outputs": [],
   "source": [
    "import pandas as pd\n",
    "\n",
    "# 假设CSV文件位于当前工作目录中，文件名为\"data.csv\"\n",
    "df = pd.read_csv('summerOly_athletes.csv')\n",
    "\n",
    "filtered_df = df[df['Year'].isin([2016, 2020,2024])]\n"
   ]
  },
  {
   "cell_type": "code",
   "execution_count": 9,
   "id": "9eba519e",
   "metadata": {},
   "outputs": [
    {
     "name": "stdout",
     "output_type": "stream",
     "text": [
      "                   Name Sex               Team  NOC  Year            City  \\\n",
      "34        Andreea Aanei   F            Romania  ROU  2016  Rio de Janeiro   \n",
      "77         Nstor Sanjun   M              Spain  ESP  2016  Rio de Janeiro   \n",
      "78         Nstor Sanjun   M              Spain  ESP  2016  Rio de Janeiro   \n",
      "79         Nstor Sanjun   M              Spain  ESP  2016  Rio de Janeiro   \n",
      "80         Nstor Sanjun   M              Spain  ESP  2016  Rio de Janeiro   \n",
      "...                 ...  ..                ...  ...   ...             ...   \n",
      "252560       Sefora Ada   F  Equatorial Guinea  GEQ  2024           Paris   \n",
      "252561  Emanuela Liuzzi   F              Italy  ITA  2024           Paris   \n",
      "252562     Isayah Boers   M        Netherlands  NED  2024           Paris   \n",
      "252563      Kevin Staut   M             France  FRA  2024           Paris   \n",
      "252564  Charlie Carvell   M      Great Britain  GBR  2024           Paris   \n",
      "\n",
      "                Sport                                    Event     Medal  \n",
      "34      Weightlifting  Weightlifting Women's Super-Heavyweight  No medal  \n",
      "77         Gymnastics   Gymnastics Men's Individual All-Around  No medal  \n",
      "78         Gymnastics          Gymnastics Men's Floor Exercise  No medal  \n",
      "79         Gymnastics           Gymnastics Men's Parallel Bars  No medal  \n",
      "80         Gymnastics          Gymnastics Men's Horizontal Bar  No medal  \n",
      "...               ...                                      ...       ...  \n",
      "252560      Athletics                             Women's 100m  No medal  \n",
      "252561      Wrestling                   Women's Freestyle 50kg  No medal  \n",
      "252562      Athletics                     4 x 400m Relay Mixed      Gold  \n",
      "252563     Equestrian                             Jumping Team    Bronze  \n",
      "252564      Athletics                     Men's 4 x 400m Relay    Bronze  \n",
      "\n",
      "[43701 rows x 9 columns]\n"
     ]
    }
   ],
   "source": [
    "print(filtered_df)"
   ]
  },
  {
   "cell_type": "code",
   "execution_count": 10,
   "id": "14702bfd",
   "metadata": {},
   "outputs": [],
   "source": [
    "# 将筛选后的数据保存为xlsx文档\n",
    "filtered_df.to_excel('filtered_data.xlsx', index=False)"
   ]
  },
  {
   "cell_type": "code",
   "execution_count": 12,
   "id": "f5eb7407",
   "metadata": {},
   "outputs": [
    {
     "name": "stdout",
     "output_type": "stream",
     "text": [
      "['ROU' 'ESP' 'ITA' 'AZE' 'FRA' 'ALG' 'BRN' 'NED' 'IRQ' 'IRL' 'USA' 'EGY'\n",
      " 'IRI' 'BEL' 'CMR' 'KAZ' 'BRU' 'UZB' 'TJK' 'RUS' 'CAN' 'GER' 'MEX' 'ETH'\n",
      " 'SRI' 'ARM' 'KEN' 'NGR' 'BRA' 'AUS' 'CHI' 'SUI' 'BLR' 'GUY' 'GEO' 'POR'\n",
      " 'COL' 'DJI' 'JOR' 'PLE' 'KSA' 'IND' 'GHA' 'HON' 'ESA' 'VEN' 'ARG' 'TKM'\n",
      " 'JPN' 'SKN' 'GBR' 'NZL' 'TUR' 'ERI' 'UGA' 'MGL' 'LTU' 'NAM' 'KGZ' 'PUR'\n",
      " 'MAS' 'SAM' 'ANG' 'RSA' 'GRE' 'NOR' 'CUB' 'PAR' 'INA' 'BAN' 'CIV' 'TTO'\n",
      " 'CHN' 'SGP' 'MAR' 'SWE' 'UKR' 'TUN' 'IOA' 'OMA' 'QAT' 'UAE' 'MDA' 'MRI'\n",
      " 'BUL' 'SRB' 'VIN' 'AUT' 'NIG' 'CRC' 'SUD' 'MAD' 'PAK' 'CHA' 'BIH' 'PHI'\n",
      " 'CAY' 'SYR' 'JAM' 'EST' 'SEY' 'ECU' 'PAN' 'GAB' 'BAH' 'ISR' 'THA' 'BOT'\n",
      " 'ROT' 'KOR' 'DEN' 'CPV' 'POL' 'DOM' 'HUN' 'CZE' 'BEN' 'URU' 'LAT' 'AND'\n",
      " 'CYP' 'COM' 'LBA' 'HKG' 'LCA' 'MOZ' 'FSM' 'TOG' 'MTN' 'YEM' 'CRO' 'ANT'\n",
      " 'AFG' 'MKD' 'SVK' 'GUI' 'FIJ' 'LIB' 'MNE' 'GUA' 'PNG' 'ZIM' 'GAM' 'SLO'\n",
      " 'BAR' 'COK' 'MLT' 'NEP' 'STP' 'CGO' 'CAF' 'SEN' 'PER' 'NRU' 'GBS' 'LAO'\n",
      " 'RWA' 'TLS' 'ALB' 'LUX' 'HAI' 'BOL' 'FIN' 'TPE' 'GRN' 'ZAM' 'MAW' 'PRK'\n",
      " 'CAM' 'ISV' 'MLI' 'MHL' 'MON' 'PLW' 'VIE' 'BER' 'DMA' 'GEQ' 'TGA' 'SOL'\n",
      " 'BDI' 'KOS' 'ISL' 'IVB' 'SSD' 'LIE' 'TAN' 'MYA' 'GUM' 'MDV' 'SLE' 'BIZ'\n",
      " 'ASA' 'COD' 'BHU' 'KIR' 'BUR' 'SUR' 'LBR' 'NCA' 'LES' 'VAN' 'ARU' 'SWZ'\n",
      " 'SOM' 'SMR' 'TUV' 'ROC' 'KUW' 'EOR' 'LBN' 'AIN']\n"
     ]
    }
   ],
   "source": [
    "unique_values_of_countres = filtered_df['NOC'].unique()\n",
    "# 显示结果\n",
    "print(unique_values_of_countries)"
   ]
  },
  {
   "cell_type": "code",
   "execution_count": 13,
   "id": "593a06a9",
   "metadata": {},
   "outputs": [
    {
     "name": "stdout",
     "output_type": "stream",
     "text": [
      "['Weightlifting' 'Gymnastics' 'Athletics' 'Rowing' 'Taekwondo' 'Handball'\n",
      " 'Boxing' 'Equestrianism' 'Cycling' 'Volleyball' 'Diving' 'Shooting'\n",
      " 'Judo' 'Football' 'Synchronized Swimming' 'Wrestling' 'Fencing'\n",
      " 'Swimming' 'Badminton' 'Rugby Sevens' 'Table Tennis' 'Water Polo'\n",
      " 'Trampolining' 'Basketball' 'Triathlon' 'Modern Pentathlon' 'Sailing'\n",
      " 'Beach Volleyball' 'Golf' 'Rhythmic Gymnastics' 'Archery' 'Hockey'\n",
      " 'Canoeing' 'Tennis' 'Cycling Road' 'Artistic Gymnastics' 'Karate'\n",
      " 'Baseball/Softball' 'Trampoline Gymnastics' 'Marathon Swimming'\n",
      " 'Canoe Slalom' 'Surfing' 'Canoe Sprint' 'Cycling BMX Racing' 'Equestrian'\n",
      " 'Artistic Swimming' 'Cycling Track' 'Skateboarding'\n",
      " 'Cycling Mountain Bike' '3x3 Basketball' 'Cycling BMX Freestyle'\n",
      " 'Sport Climbing' 'Marathon Swimming, Swimming' 'Breaking'\n",
      " 'Cycling Road, Cycling Track' 'Cycling Road, Cycling Mountain Bike'\n",
      " 'Cycling Road, Triathlon' '3x3 Basketball, Basketball']\n"
     ]
    }
   ],
   "source": [
    "unique_values_of_sports = filtered_df['Sport'].unique()\n",
    "# 显示结果\n",
    "print(unique_values_of_sports)"
   ]
  },
  {
   "cell_type": "code",
   "execution_count": null,
   "id": "d34228fb",
   "metadata": {},
   "outputs": [],
   "source": [
    "# 对这个列表进行排序\n",
    "sorted_unique_values_of_sports = sorted(unique_values_of_sports)\n",
    "\n",
    "# 显示排序后的结果\n",
    "print(sorted_unique_values_of_sports)"
   ]
  }
 ],
 "metadata": {
  "kernelspec": {
   "display_name": "Python [conda env:.conda-pytorch] *",
   "language": "python",
   "name": "conda-env-.conda-pytorch-py"
  },
  "language_info": {
   "codemirror_mode": {
    "name": "ipython",
    "version": 3
   },
   "file_extension": ".py",
   "mimetype": "text/x-python",
   "name": "python",
   "nbconvert_exporter": "python",
   "pygments_lexer": "ipython3",
   "version": "3.8.15"
  }
 },
 "nbformat": 4,
 "nbformat_minor": 5
}
